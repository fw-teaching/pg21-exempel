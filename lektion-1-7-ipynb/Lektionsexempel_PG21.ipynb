{
  "cells": [
    {
      "cell_type": "markdown",
      "metadata": {},
      "source": [
        "## OBS: Dessa exempel finns också på Google Colab, länken finns på itslearning!"
      ]
    },
    {
      "cell_type": "markdown",
      "metadata": {
        "id": "b1gSmPCLbW20"
      },
      "source": [
        "# Villkorssatser"
      ]
    },
    {
      "cell_type": "code",
      "execution_count": null,
      "metadata": {
        "colab": {
          "base_uri": "https://localhost:8080/"
        },
        "id": "W3OAHPTIasRX",
        "outputId": "52ec2964-e40e-4532-ce5c-0a1d2c80fd85"
      },
      "outputs": [
        {
          "name": "stdout",
          "output_type": "stream",
          "text": [
            "a är 1, Ge ett värde åt b: 4\n",
            "Sant: 1 != 4\n",
            "Sant: 1 < 4\n",
            "Sant: 1 <= 4\n",
            "if-elif-else: 4 > 1\n"
          ]
        }
      ],
      "source": [
        "a = 1\n",
        "\n",
        "# Exempel konvertera teckensträng till heltal (int):\n",
        "int(\"5\") # 5\n",
        "\n",
        "# ta emot ett värde, konvertera sedan till int:\n",
        "b = input(\"Ge ett värde åt b \") # returnerar en teckensträng\n",
        "b = int(b) # vi konverterar teckensträngen till ett heltal\n",
        "\n",
        "# samma sak kan göras på en enda rad så här:\n",
        "# b = int(input(f\"a är {a}, Ge ett värde åt b: \"))\n",
        "\n",
        "if a == b:\n",
        "  print(f\"Sant: {a} == {b}\")\n",
        "\n",
        "if a != b:\n",
        "  print(f\"Sant: {a} != {b}\")\n",
        "\n",
        "if a > b:\n",
        "  print(f\"Sant: {a} > {b}\")\n",
        "\n",
        "if a < b:\n",
        "  print(f\"Sant: {a} < {b}\")\n",
        "\n",
        "if a >= b:\n",
        "  print(f\"Sant: {a} >= {b}\")\n",
        "\n",
        "if a <= b:\n",
        "  print(f\"Sant: {a} <= {b}\")\n",
        "\n",
        "\n",
        "if a == b:\n",
        "  print(f\"if-elif-else: {a} == {b}\")\n",
        "elif b > a:\n",
        "  print(f\"if-elif-else: {b} > {a}\")  \n",
        "else:\n",
        "  print(f\"if-elif-else: Ingendera är sant!\")\n"
      ]
    },
    {
      "cell_type": "code",
      "execution_count": null,
      "metadata": {
        "colab": {
          "base_uri": "https://localhost:8080/"
        },
        "id": "aenW_hSfmXJ1",
        "outputId": "46003de2-97d7-4b72-a670-3ae1f25d6e47"
      },
      "outputs": [
        {
          "name": "stdout",
          "output_type": "stream",
          "text": [
            "b\n"
          ]
        }
      ],
      "source": [
        "if input() == \"a\":\n",
        "  print(\"yes\")"
      ]
    },
    {
      "cell_type": "code",
      "execution_count": null,
      "metadata": {
        "colab": {
          "base_uri": "https://localhost:8080/"
        },
        "id": "pjAFN1kp7ByB",
        "outputId": "989259b5-e4c0-4189-ea68-c031b6342f2b"
      },
      "outputs": [
        {
          "name": "stdout",
          "output_type": "stream",
          "text": [
            "YES!\n"
          ]
        }
      ],
      "source": [
        "a = 1\n",
        "b = 4\n",
        "c = 4\n",
        "\n",
        "if a == 1 and (b == 3 or c == 4):\n",
        "  print(\"YES!\")\n",
        "else:\n",
        "  print(\"nope\")"
      ]
    },
    {
      "cell_type": "markdown",
      "metadata": {
        "id": "KN7ony5a_mL-"
      },
      "source": [
        "# List"
      ]
    },
    {
      "cell_type": "code",
      "execution_count": null,
      "metadata": {
        "colab": {
          "base_uri": "https://localhost:8080/"
        },
        "id": "bQsk5ay0_oZ0",
        "outputId": "d18d0b22-ddbc-4f5a-e203-479675d18fee"
      },
      "outputs": [
        {
          "name": "stdout",
          "output_type": "stream",
          "text": [
            "I dag är det fr, i morgon är det lö\n",
            "lö\n"
          ]
        }
      ],
      "source": [
        "list_a = [2, 4, 6, 8]\n",
        "\n",
        "'''\n",
        "print(list_a[0])\n",
        "print(list_a[3])\n",
        "print(f\"list_a har { len(list_a) } värden.\")\n",
        "'''\n",
        "\n",
        "veckodag = 4\n",
        "#    index: 0     1     2      3     4    5     6\n",
        "list_b = [ \"må\", \"ti\", \"on\", \"to\", \"fr\", \"lö\", \"sö\" ]\n",
        "\n",
        "print(f\"I dag är det { list_b[veckodag] }, i morgon är det {list_b[veckodag+1]}\")\n",
        "\n",
        "\n",
        "print( list_b[-2] )"
      ]
    },
    {
      "cell_type": "code",
      "execution_count": null,
      "metadata": {
        "colab": {
          "base_uri": "https://localhost:8080/"
        },
        "id": "SEiW05ncFqSj",
        "outputId": "37d1fe5d-8bf1-4297-87ea-9fbc715ff8fb"
      },
      "outputs": [
        {
          "name": "stdout",
          "output_type": "stream",
          "text": [
            "[2, 4, 6, 8]\n",
            "[2, 4, 6, 8, 10]\n"
          ]
        }
      ],
      "source": [
        "inre_lista_1 = [2,4,6,8]\n",
        "\n",
        "print(inre_lista_1)\n",
        "\n",
        "inre_lista_1.append(10)\n",
        "\n",
        "print(inre_lista_1)\n",
        "\n",
        "inre_lista_2 = [1,3,5,7]\n",
        "\n",
        "yttre_lista = [ \n",
        "  inre_lista_1, \n",
        "  inre_lista_2 \n",
        "]\n",
        "\n",
        "lista1 = [\n",
        "  [2,4,6,8], # lista1, index 0\n",
        "  [\n",
        "    1, # lista[1][0]\n",
        "    3, # lista[1][1]\n",
        "    5, # lista[1][2]\n",
        "    7  # lista[1][3]\n",
        "   ] \n",
        "]\n",
        "\n",
        "#print(lista1[1][3])"
      ]
    },
    {
      "cell_type": "code",
      "execution_count": null,
      "metadata": {
        "colab": {
          "base_uri": "https://localhost:8080/"
        },
        "id": "FH9BXOytQ6JX",
        "outputId": "1b498f85-1900-4b3b-afa3-127ce7a8d519"
      },
      "outputs": [
        {
          "name": "stdout",
          "output_type": "stream",
          "text": [
            "[2, 4, 6, 8]\n",
            "[2, 4, 6, 8, 10]\n",
            "[2, 4, 6, 8]\n",
            "[2, 4, 8]\n"
          ]
        }
      ],
      "source": [
        "inre_lista_1 = [2,4,6,8]\n",
        "\n",
        "print(inre_lista_1)\n",
        "\n",
        "inre_lista_1.append(10) # Lägger till på slutet av listan\n",
        "print(inre_lista_1)\n",
        "\n",
        "inre_lista_1.pop() # tar bort sista elementet\n",
        "print(inre_lista_1)\n",
        "\n",
        "inre_lista_1.pop(2) # tar bort element nr 2\n",
        "print(inre_lista_1)"
      ]
    },
    {
      "cell_type": "markdown",
      "metadata": {
        "id": "4bnaU715CTG4"
      },
      "source": [
        "# Dict"
      ]
    },
    {
      "cell_type": "code",
      "execution_count": null,
      "metadata": {
        "colab": {
          "base_uri": "https://localhost:8080/"
        },
        "id": "4Iw2HYwmCU5I",
        "outputId": "628d3e75-be58-4e32-f943-1c98e52e2971"
      },
      "outputs": [
        {
          "name": "stdout",
          "output_type": "stream",
          "text": [
            "Fredde is 42 yrs old and likes Python\n",
            "Linus is 51 yrs old and likes C\n",
            "Betty is 100 yrs old and likes Breakpoints\n"
          ]
        }
      ],
      "source": [
        "dude_1 = {\n",
        "    \"name\": \"Fredde\",\n",
        "    \"age\": 42,\n",
        "    \"likes\": \"Python\",\n",
        "    \"address\": {\n",
        "        \"street\": \"gatan 1\",\n",
        "        \"city\": \"Helsingfors\"\n",
        "    }\n",
        "}\n",
        "\n",
        "dude_2 = {\n",
        "    \"name\": \"Linus\",\n",
        "    \"age\": 51,\n",
        "    \"likes\": \"C\"\n",
        "}\n",
        "\n",
        "\"\"\"\n",
        "print(f\"{dude_1['name']} is {dude_1['age']} old and likes {dude_1['likes']}\")\n",
        "print(f\"{dude_2['name']} is {dude_2['age']} old and likes {dude_2['likes']}\")\n",
        "\"\"\"\n",
        "\n",
        "dudes = [\n",
        "  { \"name\": \"Fredde\", \"age\": 42, \"likes\": \"Python\" },\n",
        "  { \"name\": \"Linus\", \"age\": 51, \"likes\": \"C\" },\n",
        "  { \"name\": \"Betty\", \"age\": 100, \"likes\": \"Breakpoints\" }  \n",
        "]\n",
        "\n",
        "for dude in dudes:\n",
        "  print(f\"{dude['name']} is {dude['age']} yrs old and likes {dude['likes']}\")\n"
      ]
    },
    {
      "cell_type": "code",
      "execution_count": null,
      "metadata": {
        "colab": {
          "base_uri": "https://localhost:8080/"
        },
        "id": "o3Rm-KSvRqE8",
        "outputId": "145904f8-ba40-41b5-ab1d-33082557d946"
      },
      "outputs": [
        {
          "name": "stdout",
          "output_type": "stream",
          "text": [
            "{'name': 'Fredde', 'age': 42, 'likes': 'Python'}\n",
            "{'name': 'Fredde', 'age': 42, 'likes': 'Python', 'address': {'street': 'gatan 1', 'city': 'Helsingfors'}}\n",
            "{'name': 'Fredde', 'age': 42, 'likes': 'Python'}\n"
          ]
        }
      ],
      "source": [
        "dude_1 = {\n",
        "    \"name\": \"Fredde\",\n",
        "    \"age\": 42,\n",
        "    \"likes\": \"Python\"\n",
        "}\n",
        "\n",
        "print(dude_1)\n",
        "\n",
        "dude_1[\"address\"] =  { \"street\": \"gatan 1\", \"city\": \"Helsingfors\" }\n",
        " \n",
        "print(dude_1)\n",
        "\n",
        "dude_1.pop('address')\n",
        "print(dude_1)\n",
        "dude_1.pop('address', None)\n"
      ]
    },
    {
      "cell_type": "markdown",
      "metadata": {
        "id": "QZZjrSJGBhag"
      },
      "source": [
        "# Recap 1"
      ]
    },
    {
      "cell_type": "code",
      "execution_count": null,
      "metadata": {
        "colab": {
          "base_uri": "https://localhost:8080/"
        },
        "id": "q2zb4ocXBjK-",
        "outputId": "d8c9e905-4e95-4354-d660-1a2387d07b09"
      },
      "outputs": [
        {
          "name": "stdout",
          "output_type": "stream",
          "text": [
            "Mata in ett heltal: \n",
            "8\n",
            "Svaret är: 80\n"
          ]
        }
      ],
      "source": [
        "print(\"Mata in ett heltal: \")\n",
        "inmatat_tal = input() # ta emot teckensträng (str)\n",
        "inmatat_tal = int(inmatat_tal) # returnerar inmatat_tal med datatyp int istf str\n",
        "svaret = inmatat_tal * 10\n",
        "print(f\"Svaret är: {svaret}\")\n"
      ]
    },
    {
      "cell_type": "code",
      "execution_count": null,
      "metadata": {
        "colab": {
          "base_uri": "https://localhost:8080/"
        },
        "id": "hectFmiUDQfX",
        "outputId": "8749c986-a2fb-4800-9e7e-20b3b3f5fde0"
      },
      "outputs": [
        {
          "name": "stdout",
          "output_type": "stream",
          "text": [
            "Skriv ett tal: 5\n",
            "50\n"
          ]
        }
      ],
      "source": [
        "print(int(input(\"Skriv ett tal: \")) * 10)"
      ]
    },
    {
      "cell_type": "markdown",
      "metadata": {
        "id": "Nc9lq9UiTxqS"
      },
      "source": [
        "# for-loop"
      ]
    },
    {
      "cell_type": "code",
      "execution_count": null,
      "metadata": {
        "id": "mNp0AKitTw8M"
      },
      "outputs": [],
      "source": [
        "dagar = [ \"må\", \"ti\", \"on\", \"to\", \"fr\", \"lö\", \"sö\" ]\n",
        "\n",
        "\"\"\"\n",
        "for dag in dagar:\n",
        "  print(dag)\n",
        "  if dag == \"fr\":\n",
        "    print(\"(TGIF)\")\n",
        "\"\"\"\n",
        "\n",
        "\"\"\"\n",
        "for i in range(1, 7):\n",
        "  print(i)\n",
        "\"\"\"  \n",
        "\n",
        "for dagnummer, dag in enumerate(dagar):\n",
        "  print(f\"{dagnummer}: {dag}\")\n",
        "\n",
        "\n",
        "\n",
        "dudes = [\n",
        "  { \"name\": \"Fredde\", \"age\": 42, \"likes\": \"Python\" },\n",
        "  { \"name\": \"Linus\", \"age\": 51, \"likes\": \"C\" },\n",
        "  { \"name\": \"Betty\", \"age\": 100, \"likes\": \"Breakpoints\" }  \n",
        "]\n",
        "\n",
        "for dude in dudes:\n",
        "  print(f\"{dude['name']} is {dude['age']} yrs old and likes {dude['likes']}\")"
      ]
    },
    {
      "cell_type": "markdown",
      "metadata": {
        "id": "jCsqUGZ_anvW"
      },
      "source": [
        "# while-loop"
      ]
    },
    {
      "cell_type": "code",
      "execution_count": null,
      "metadata": {
        "id": "x95RqEWxap-c"
      },
      "outputs": [],
      "source": [
        "while True:\n",
        "\n",
        "  i = 1\n",
        "  while i <= 3:\n",
        "    print(i)\n",
        "    i += 1    #i = i + 1\n",
        "\n",
        "  if input(\"Vill du fortsätta? (y/n)\") != \"y\":\n",
        "    break\n",
        "\n",
        "print(\"Bye Bye\")"
      ]
    },
    {
      "cell_type": "code",
      "execution_count": null,
      "metadata": {
        "id": "LiERPYHzi_xj"
      },
      "outputs": [],
      "source": [
        "# while True-recap\n",
        "print(\"välkommen!\")\n",
        "min_variabel = 1\n",
        "\n",
        "while True: \n",
        "\n",
        "  print(\" hej på dig\")\n",
        "  min_variabel += 1 # min_variabel = min_variabel + 1\n",
        "  print(f\" min variabel är nu {min_variabel}\")\n",
        "\n",
        "  if input(\"Fortsätt loopa? (y/n)\") == \"n\":\n",
        "    break\n",
        "\n",
        "# Slut på loopen!\n",
        "print(\"slut på programmet\")"
      ]
    },
    {
      "cell_type": "markdown",
      "metadata": {
        "id": "kUhjk1onmRyu"
      },
      "source": [
        "# Felhantering try/except"
      ]
    },
    {
      "cell_type": "code",
      "execution_count": null,
      "metadata": {
        "id": "zgt4hdh3mWSd"
      },
      "outputs": [],
      "source": [
        "\n",
        "try:\n",
        "  namnare = input(\"Ge nämnaren till täljaren 5: \")\n",
        "  resultat = 5/int(namnare)\n",
        "  print(f\"Resultat: {resultat}\")\n",
        "except ZeroDivisionError:\n",
        "  print(\"Du får inte dividera med 0!\")\n",
        "except ValueError as e:\n",
        "  print(\"Du måste ge ett heltal!\")\n",
        "except Exception as e:\n",
        "  print(f\"Nåt annat fel: {e}\")"
      ]
    },
    {
      "cell_type": "code",
      "execution_count": null,
      "metadata": {
        "id": "8oBoSIZEqC2_"
      },
      "outputs": [],
      "source": [
        "while True:\n",
        "  try:\n",
        "    a = int(input(\"ge ett heltal: \"))\n",
        "    print(\"Du skrev talet\", a)\n",
        "    break\n",
        "  except ValueError:\n",
        "    print(\"Det där var inte ett heltal, försök igen!\")\n",
        "\n",
        "print(\"tack o hej\")"
      ]
    },
    {
      "cell_type": "markdown",
      "metadata": {
        "id": "t8OZflw82pX6"
      },
      "source": [
        "# Funktioner"
      ]
    },
    {
      "cell_type": "code",
      "execution_count": null,
      "metadata": {
        "colab": {
          "base_uri": "https://localhost:8080/"
        },
        "id": "HwHybar921Dp",
        "outputId": "50de72e0-005b-4165-9701-3e0f76944180"
      },
      "outputs": [
        {
          "name": "stdout",
          "output_type": "stream",
          "text": [
            "Hello Fredde!\n",
            "Hello Dennis!\n",
            "Hello Jonny!\n"
          ]
        }
      ],
      "source": [
        "def say_hello(name):\n",
        "  print(f\"Hello {name}!\")\n",
        "\n",
        "for namn in [\"Fredde\", \"Dennis\", \"Jonny\"]:\n",
        "  say_hello(namn)\n",
        "\n"
      ]
    },
    {
      "cell_type": "code",
      "execution_count": null,
      "metadata": {
        "colab": {
          "base_uri": "https://localhost:8080/"
        },
        "id": "KCZUzUDX4N_n",
        "outputId": "6eb4e834-9e71-42a6-83fe-891254c70619"
      },
      "outputs": [
        {
          "name": "stdout",
          "output_type": "stream",
          "text": [
            "10\n"
          ]
        }
      ],
      "source": [
        "tio = int(\"10\") # int() returnerar ett heltal\n",
        "print(tio)"
      ]
    },
    {
      "cell_type": "code",
      "execution_count": null,
      "metadata": {
        "id": "4KMwHHIb4q6x"
      },
      "outputs": [],
      "source": [
        "def greeting(name):\n",
        "  svar = f\"Hello {name}!\"\n",
        "  return svar\n",
        "\n",
        "for namn in [\"Fredde\", \"Dennis\", \"Jonny\"]:\n",
        "  reply = greeting(namn)\n",
        "  print(reply)"
      ]
    },
    {
      "cell_type": "code",
      "execution_count": null,
      "metadata": {
        "id": "6_0dxbN59m-T"
      },
      "outputs": [],
      "source": [
        "def omkrets(diam: float) -> float: # Explicit  parametertyp (float) samt returtyp (float)\n",
        "  \"\"\"Räknar ut omkrets på basis av diameter\"\"\"\n",
        "  return diam * 3.1415\n",
        "\n",
        "print(f\"Omkretsen är {omkrets(8)}\")"
      ]
    },
    {
      "cell_type": "code",
      "execution_count": null,
      "metadata": {
        "id": "lHfH0pQnAd57"
      },
      "outputs": [],
      "source": [
        "def multiply(factor1, factor2):\n",
        "  return factor1*factor2\n",
        "\n",
        "\n",
        "print(multiply(6,7))"
      ]
    },
    {
      "cell_type": "markdown",
      "metadata": {
        "id": "CKqty_UJEVso"
      },
      "source": [
        "# Keyword arguments"
      ]
    },
    {
      "cell_type": "code",
      "execution_count": null,
      "metadata": {
        "colab": {
          "base_uri": "https://localhost:8080/",
          "height": 73
        },
        "id": "wB2w8W4BEYex",
        "outputId": "5c94d962-af19-43bc-e860-955bdbcb804e"
      },
      "outputs": [
        {
          "name": "stdout",
          "output_type": "stream",
          "text": [
            "5 st bulle kostar 16.5 €\n",
            "1 st bulle kostar 4 €\n"
          ]
        },
        {
          "data": {
            "application/vnd.google.colaboratory.intrinsic+json": {
              "type": "string"
            },
            "text/plain": [
              "'1 st bulle kostar 4 €'"
            ]
          },
          "execution_count": 24,
          "metadata": {},
          "output_type": "execute_result"
        }
      ],
      "source": [
        "def display_price(product, price, amount=1, print_message=True):\n",
        "  ret = f\"{amount} st {product} kostar {price*amount} €\"\n",
        "  if print_message == True:\n",
        "    print(ret)\n",
        "  return ret\n",
        "\n",
        "display_price(\"Bulle\", 3.3, print_message=False)\n",
        "\n",
        "display_price(\"bulle\", 3.3, 5)\n",
        "\n",
        "display_price(\"bulle\", 4, print_message=True, amount=1, )\n",
        "\n",
        "\n"
      ]
    },
    {
      "cell_type": "markdown",
      "metadata": {
        "id": "2qPoPRxXIuPF"
      },
      "source": [
        "# Metoder"
      ]
    },
    {
      "cell_type": "code",
      "execution_count": null,
      "metadata": {
        "colab": {
          "base_uri": "https://localhost:8080/"
        },
        "id": "sr5WXaJdIwet",
        "outputId": "90874744-c122-40ff-c77f-9bc471f751b1"
      },
      "outputs": [
        {
          "name": "stdout",
          "output_type": "stream",
          "text": [
            "moj moj\n",
            "['fyra', 'tre', 'två', 'ett']\n"
          ]
        }
      ],
      "source": [
        "len(\" hej \") # len() är funktion (inte en metod)\n",
        "\n",
        "\" hej \".strip() \n",
        "\"hej\".upper()\n",
        "\"HEJ\".lower()\n",
        "\n",
        "print(\"hej hej\".replace(\"he\", \"mo\")) # Byt ut del av teckensträng\n",
        "\n",
        "# Vanligt sätt att använda lower()\n",
        "# Poängen här är att godkänna både \"Q\" och \"q\":\n",
        "user_input = input(\"Skriv Q för att avsluta: \")\n",
        "if user_input.lower() == 'q':\n",
        "  print(\"quit\")\n",
        "\n",
        "\n",
        "# list-metoder\n",
        "my_list = [\"ett\", \"två\", \"tre\"]\n",
        "my_list.append(\"fyra\")\n",
        "my_list.reverse()\n",
        "print(my_list)\n",
        "\n"
      ]
    },
    {
      "cell_type": "markdown",
      "metadata": {
        "id": "N4P79TL2RmCK"
      },
      "source": [
        "# Moduler: *datetime*"
      ]
    },
    {
      "cell_type": "code",
      "execution_count": null,
      "metadata": {
        "colab": {
          "base_uri": "https://localhost:8080/"
        },
        "id": "p488m8GsRob8",
        "outputId": "4f5b409e-f9b3-4d68-b609-1c637510c201"
      },
      "outputs": [
        {
          "name": "stdout",
          "output_type": "stream",
          "text": [
            "2021-11-12 08:43:05.223669\n",
            "Året är 2021\n",
            "I dag är 12.11.2021 klockan är 08:11\n"
          ]
        }
      ],
      "source": [
        "import datetime\n",
        "print(datetime.datetime.now())\n",
        "\n",
        "current_time = datetime.datetime.now()\n",
        "\n",
        "print(current_time.strftime(\"Året är %Y\"))\n",
        "print(current_time.strftime(\"I dag är %d.%m.%Y klockan är %H:%m\"))\n"
      ]
    },
    {
      "cell_type": "code",
      "execution_count": null,
      "metadata": {
        "colab": {
          "base_uri": "https://localhost:8080/"
        },
        "id": "fNJqrjOZSM6_",
        "outputId": "59bce6a9-65c9-4171-82b2-7f427d15ab03"
      },
      "outputs": [
        {
          "name": "stdout",
          "output_type": "stream",
          "text": [
            "Året är 2021\n",
            "I dag är 12.11.2021 klockan är 08:11\n",
            "I år är det 2021 nästa år är 2022\n"
          ]
        }
      ],
      "source": [
        "from datetime import datetime\n",
        "\n",
        "current_time = datetime.now()\n",
        "\n",
        "print(current_time.strftime(\"Året är %Y\"))\n",
        "print(current_time.strftime(\"I dag är %d.%m.%Y klockan är %H:%m\"))\n",
        "\n",
        "print(f\"I år är det {current_time.year} nästa år är {current_time.year+1}\")\n"
      ]
    },
    {
      "cell_type": "code",
      "execution_count": null,
      "metadata": {
        "colab": {
          "base_uri": "https://localhost:8080/"
        },
        "id": "ve7QmdveUPej",
        "outputId": "9217bdf8-94f1-44f4-ca86-6a480a964532"
      },
      "outputs": [
        {
          "name": "stdout",
          "output_type": "stream",
          "text": [
            "Julafton är 2021-12-24 18:30:55\n"
          ]
        }
      ],
      "source": [
        "import datetime\n",
        "\n",
        "tidpunkt = datetime.datetime(2021, 12, 24)\n",
        "tidpunkt = datetime.datetime(2021, 12, 24, 18, 30, 55)\n",
        "\n",
        "\n",
        "\n",
        "print(f\"Julafton är {tidpunkt}\")"
      ]
    },
    {
      "cell_type": "code",
      "execution_count": null,
      "metadata": {
        "id": "kZ-3SDTaVtm8"
      },
      "outputs": [],
      "source": []
    },
    {
      "cell_type": "markdown",
      "metadata": {
        "id": "GGy8_U7xVq3D"
      },
      "source": [
        "# Moduler: *random*"
      ]
    },
    {
      "cell_type": "code",
      "execution_count": null,
      "metadata": {
        "colab": {
          "base_uri": "https://localhost:8080/"
        },
        "id": "H1Nb9XbjVug6",
        "outputId": "f5ac9aa6-752b-4ba6-aceb-47410a1307ed"
      },
      "outputs": [
        {
          "name": "stdout",
          "output_type": "stream",
          "text": [
            "0.7680219547133289\n",
            "3\n",
            "7.7184591018784\n",
            "2\n",
            "['marklyft', 'knäböj']\n",
            "['fem', 'två', 'fyra', 'tre', 'ett']\n"
          ]
        }
      ],
      "source": [
        "import random\n",
        "\n",
        "print(random.random())\n",
        "print(random.randint(1,10))\n",
        "print(random.uniform(1,10))\n",
        "\n",
        "\n",
        "print(random.randint(1,6)) # tärningskast\n",
        "\n",
        "my_list = [\"knäböj\", \"bänk\", \"marklyft\", \"press\"]\n",
        "\n",
        "print(random.sample(my_list, 2))\n",
        "\n",
        "\n",
        "my_list = [\"ett\", \"två\", \"tre\", \"fyra\", \"fem\"]\n",
        "random.shuffle(my_list)\n",
        "print(my_list)\n"
      ]
    },
    {
      "cell_type": "markdown",
      "metadata": {
        "id": "xFlO1msMdMSO"
      },
      "source": [
        "# modulo"
      ]
    },
    {
      "cell_type": "code",
      "execution_count": null,
      "metadata": {
        "colab": {
          "background_save": true
        },
        "id": "pfa7qimNdOVf"
      },
      "outputs": [],
      "source": [
        "8 % 4 = 0"
      ]
    },
    {
      "cell_type": "markdown",
      "metadata": {
        "id": "1UB4HY_L3Lj-"
      },
      "source": [
        "# List comprehension"
      ]
    },
    {
      "cell_type": "code",
      "execution_count": null,
      "metadata": {
        "id": "oXtyLqRZ3N0d"
      },
      "outputs": [],
      "source": [
        "my_list = [ 1,2,3,4,5,6,7,8,9,10 ]\n",
        "\n",
        "### Långa sättet\n",
        "new_list = []\n",
        "for number in my_list:\n",
        "  new_list.append(number*10)\n",
        "\n",
        "print(new_list)\n",
        "\n",
        "### List comprehension FTW!\n",
        "\n",
        "new_list = [ number*10 for number in my_list ]\n",
        "\n",
        "print(new_list)\n"
      ]
    },
    {
      "cell_type": "code",
      "execution_count": null,
      "metadata": {
        "colab": {
          "base_uri": "https://localhost:8080/"
        },
        "id": "-XkXtUeQ4h3D",
        "outputId": "cb816403-9db9-449e-d64b-c5b8b2339c3b"
      },
      "outputs": [
        {
          "name": "stdout",
          "output_type": "stream",
          "text": [
            "['potato', 'rice', 'bread', 'pasta', 'tofu']\n",
            "['potato', 'rice', 'bread', 'pasta', 'tofu']\n"
          ]
        }
      ],
      "source": [
        "foods_list = [ \"potato\", \"beef\", \"rice\", \"bread\", \"fish\", \"pasta\", \"chicken\", \"tofu\" ]\n",
        "meats = [ \"beef\", \"fish\", \"chicken\"]\n",
        "\n",
        "vege = [ food for food in foods_list if food not in meats ]\n",
        "\n",
        "print(vege)\n",
        "\n",
        "### Långa sättet...\n",
        "vege = []\n",
        "for food in foods_list:\n",
        "  if food not in meats:\n",
        "    vege.append(food)\n",
        "\n",
        "print(vege)"
      ]
    }
  ],
  "metadata": {
    "colab": {
      "collapsed_sections": [],
      "name": "Lektionsexempel-PG21.ipynb",
      "provenance": [],
      "toc_visible": true
    },
    "kernelspec": {
      "display_name": "Python 3",
      "name": "python3"
    },
    "language_info": {
      "name": "python"
    }
  },
  "nbformat": 4,
  "nbformat_minor": 0
}
